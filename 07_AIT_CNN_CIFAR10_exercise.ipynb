{
  "nbformat": 4,
  "nbformat_minor": 0,
  "metadata": {
    "anaconda-cloud": {},
    "kernelspec": {
      "display_name": "Python 3",
      "name": "python3"
    },
    "language_info": {
      "codemirror_mode": {
        "name": "ipython",
        "version": 3
      },
      "file_extension": ".py",
      "mimetype": "text/x-python",
      "name": "python",
      "nbconvert_exporter": "python",
      "pygments_lexer": "ipython3",
      "version": "3.6.6"
    },
    "colab": {
      "provenance": [],
      "gpuType": "T4",
      "include_colab_link": true
    },
    "accelerator": "GPU"
  },
  "cells": [
    {
      "cell_type": "markdown",
      "metadata": {
        "id": "view-in-github",
        "colab_type": "text"
      },
      "source": [
        "<a href=\"https://colab.research.google.com/github/DanielVeress/AIT-DL/blob/main/07_AIT_CNN_CIFAR10_exercise.ipynb\" target=\"_parent\"><img src=\"https://colab.research.google.com/assets/colab-badge.svg\" alt=\"Open In Colab\"/></a>"
      ]
    },
    {
      "cell_type": "markdown",
      "metadata": {
        "id": "cW-EyI5Lxpqi"
      },
      "source": [
        "# Copyright\n",
        "\n",
        "<PRE>\n",
        "Copyright (c) 2024 Bálint Gyires-Tóth - All Rights Reserved\n",
        "You may use and modify this code for research and development purpuses.\n",
        "Using this code for educational purposes (self-paced or instructor led) without the permission of the author is prohibited.\n",
        "</PRE>"
      ]
    },
    {
      "cell_type": "markdown",
      "source": [
        "# Convolutional Neural Network exercise\n",
        "\n",
        "In this notebook, you will build a convolutional neural network, which offers superior results over the previous MLP solution. Additionally, you will perform a more detailed evaluation."
      ],
      "metadata": {
        "id": "3EX4cCa4WKJu"
      }
    },
    {
      "cell_type": "code",
      "source": [
        "# imports\n",
        "import tensorflow as tf\n",
        "from tensorflow.keras.datasets import cifar10\n",
        "from tensorflow.keras.utils import to_categorical\n",
        "import numpy as np\n",
        "import matplotlib.pyplot as plt\n",
        "from tensorflow.keras.models import Sequential\n",
        "from tensorflow.keras.layers import Dense, Conv2D, MaxPool2D, Flatten, Dropout, BatchNormalization\n",
        "from tensorflow.keras.initializers import HeNormal\n",
        "from tensorflow.keras.callbacks import EarlyStopping"
      ],
      "metadata": {
        "id": "GdCMhy4HA2qd"
      },
      "execution_count": 156,
      "outputs": []
    },
    {
      "cell_type": "markdown",
      "source": [
        "# 1. Data\n",
        "The dataset we will use is the well-known CIFAR10 (Canadian Institute For Advanced Research). Explore the details on the Keras website first: https://keras.io/api/datasets/cifar10/\n",
        "\n",
        "There isn't much difference between the data preprocessing part and the one we did before. The only difference is that we don't have to reshape images into vectors, but we are working with a 4 dimensional data structure, where the dimensions are: batch, X, Y, and color channels.\n",
        "\n",
        "In the event that anything is not clear regarding the data preparation part, please check the previous CIFAR10 notebook."
      ],
      "metadata": {
        "id": "yY9fztIeWIKt"
      }
    },
    {
      "cell_type": "code",
      "source": [
        "(X_train, Y_train), (X_test, Y_test) = cifar10.load_data()"
      ],
      "metadata": {
        "id": "bez7q0eiWQCK"
      },
      "execution_count": 157,
      "outputs": []
    },
    {
      "cell_type": "code",
      "source": [
        "# it is in int8 format, the neural network requires float32\n",
        "X_train = X_train.astype(\"float32\")\n",
        "X_test = X_test.astype(\"float32\")"
      ],
      "metadata": {
        "id": "vukOcBM0XzSj"
      },
      "execution_count": 158,
      "outputs": []
    },
    {
      "cell_type": "code",
      "source": [
        "train_ratio  = 0.8\n",
        "train_length = X_train.shape[0]\n",
        "train_split  = int(train_ratio*train_length)\n",
        "X_valid, Y_valid = X_train[train_split:], Y_train[train_split:]\n",
        "X_train, Y_train = X_train[:train_split], Y_train[:train_split]"
      ],
      "metadata": {
        "id": "mRwuWxxIxLgN"
      },
      "execution_count": 159,
      "outputs": []
    },
    {
      "cell_type": "code",
      "source": [
        "mean = X_train.mean(axis=0)\n",
        "std  = X_train.std(axis=0)\n",
        "\n",
        "X_train = (X_train-mean)/std\n",
        "X_valid = (X_valid-mean)/std\n",
        "X_test  = (X_test-mean)/std"
      ],
      "metadata": {
        "id": "2ESLP1EIyB2J"
      },
      "execution_count": 160,
      "outputs": []
    },
    {
      "cell_type": "code",
      "source": [
        "nb_classes = len(np.unique(Y_train))\n",
        "Y_train = to_categorical(Y_train, nb_classes)\n",
        "Y_valid = to_categorical(Y_valid, nb_classes)\n",
        "Y_test  = to_categorical(Y_test, nb_classes)"
      ],
      "metadata": {
        "id": "xwZ4OJ6I8lba"
      },
      "execution_count": 161,
      "outputs": []
    },
    {
      "cell_type": "code",
      "source": [
        "print(\"Shapes of the training, validation and test input data:\", X_train.shape, X_valid.shape, X_test.shape)\n",
        "print(\"Shapes of the training, validation and test output data:\", Y_train.shape, Y_valid.shape, Y_test.shape)\n",
        "print(\"Mean values of the training, validation and test input data:\", X_train.mean(), X_valid.mean(), X_test.mean())\n",
        "print(\"Standard deviation of the training, validation and test input data:\", X_train.std(), X_valid.std(), X_test.std())"
      ],
      "metadata": {
        "id": "O_jdJVcvX0vi",
        "colab": {
          "base_uri": "https://localhost:8080/"
        },
        "outputId": "ca138dd7-c644-4054-e7b0-ec2aa58569aa"
      },
      "execution_count": 162,
      "outputs": [
        {
          "output_type": "stream",
          "name": "stdout",
          "text": [
            "Shapes of the training, validation and test input data: (40000, 32, 32, 3) (10000, 32, 32, 3) (10000, 32, 32, 3)\n",
            "Shapes of the training, validation and test output data: (40000, 10) (10000, 10) (10000, 10)\n",
            "Mean values of the training, validation and test input data: 2.2788842e-09 0.0023437198 0.013331206\n",
            "Standard deviation of the training, validation and test input data: 1.0000023 0.9965626 0.99783075\n"
          ]
        }
      ]
    },
    {
      "cell_type": "markdown",
      "metadata": {
        "id": "cJ14oyZExpqj"
      },
      "source": [
        "# 2. Exercise: training"
      ]
    },
    {
      "cell_type": "markdown",
      "source": [
        "Create and train a convolutional neural network with the following requirements:\n",
        "* apply early stopping with patience=5 and monitor the validation accuracy, don't forget to load back the best weights after early stopping\n",
        "* the number of trainable parameters is lower than 200.000\n",
        "* the validation accuracy must be higher than 72%\n",
        "\n",
        "Hints:\n",
        "* you can always inspect the number of trainable parameters per layer with model.summary()\n",
        "* usually the most trainable parameters are between the last convolutional layer and the next dense layer -- so you should have a reasonable output size at the last convolutional layer\n",
        "* regularization helps (e.g. DropOut and/or BatchNormalization)\n",
        "* use the right activation function at the output layer and the corresponding loss function\n",
        "* for the chosen activation functions, please use the appropriate initialization method\n",
        "* you can match the dimension of the last conv/pooling layer to the next dense layer with e.g. Flatten()\n",
        "* ADAM optimizer is a reasonable choice\n",
        "* don't forget to turn on GPU support in Colab, otherwise, it would be quite slow to train the networks\n",
        "\n"
      ],
      "metadata": {
        "id": "j1tGVPdD-pp3"
      }
    },
    {
      "cell_type": "code",
      "source": [
        "es = EarlyStopping(patience=5, restore_best_weights=True, start_from_epoch=5) # early stopping"
      ],
      "metadata": {
        "id": "5dBQxJHIHrbd"
      },
      "execution_count": 163,
      "outputs": []
    },
    {
      "cell_type": "code",
      "source": [
        "# model definition\n",
        "model = Sequential()\n",
        "\n",
        "model.add(Conv2D(input_shape=[32,32,3], filters=32, kernel_size=3, strides=1, padding='same', activation='relu', kernel_initializer=HeNormal()))\n",
        "model.add(BatchNormalization())\n",
        "model.add(MaxPool2D())\n",
        "model.add(Dropout(0.25))\n",
        "\n",
        "model.add(Conv2D(filters=64, kernel_size=3, strides=1, padding='same', activation='relu', kernel_initializer=HeNormal()))\n",
        "model.add(BatchNormalization())\n",
        "model.add(MaxPool2D())\n",
        "model.add(Dropout(0.25))\n",
        "\n",
        "model.add(Flatten())\n",
        "model.add(Dense(32, activation='relu', kernel_initializer=HeNormal()))\n",
        "model.add(BatchNormalization())\n",
        "model.add(Dropout(0.5))\n",
        "\n",
        "model.add(Dense(10, activation='softmax'))\n",
        "\n",
        "# loss function and optimizer\n",
        "model.compile(optimizer='adam',\n",
        "              loss='categorical_crossentropy',\n",
        "              metrics=['accuracy'])"
      ],
      "metadata": {
        "id": "PuxHOqLt-3Nd"
      },
      "execution_count": 164,
      "outputs": []
    },
    {
      "cell_type": "code",
      "source": [
        "model.summary()"
      ],
      "metadata": {
        "id": "5eomQw8uE9Ix",
        "colab": {
          "base_uri": "https://localhost:8080/"
        },
        "outputId": "cd4cfda1-8d3f-4735-ff25-8389aa592337"
      },
      "execution_count": 165,
      "outputs": [
        {
          "output_type": "stream",
          "name": "stdout",
          "text": [
            "Model: \"sequential_34\"\n",
            "_________________________________________________________________\n",
            " Layer (type)                Output Shape              Param #   \n",
            "=================================================================\n",
            " conv2d_75 (Conv2D)          (None, 32, 32, 32)        896       \n",
            "                                                                 \n",
            " batch_normalization_111 (B  (None, 32, 32, 32)        128       \n",
            " atchNormalization)                                              \n",
            "                                                                 \n",
            " max_pooling2d_59 (MaxPooli  (None, 16, 16, 32)        0         \n",
            " ng2D)                                                           \n",
            "                                                                 \n",
            " dropout_62 (Dropout)        (None, 16, 16, 32)        0         \n",
            "                                                                 \n",
            " conv2d_76 (Conv2D)          (None, 16, 16, 64)        18496     \n",
            "                                                                 \n",
            " batch_normalization_112 (B  (None, 16, 16, 64)        256       \n",
            " atchNormalization)                                              \n",
            "                                                                 \n",
            " max_pooling2d_60 (MaxPooli  (None, 8, 8, 64)          0         \n",
            " ng2D)                                                           \n",
            "                                                                 \n",
            " dropout_63 (Dropout)        (None, 8, 8, 64)          0         \n",
            "                                                                 \n",
            " flatten_33 (Flatten)        (None, 4096)              0         \n",
            "                                                                 \n",
            " dense_69 (Dense)            (None, 32)                131104    \n",
            "                                                                 \n",
            " batch_normalization_113 (B  (None, 32)                128       \n",
            " atchNormalization)                                              \n",
            "                                                                 \n",
            " dropout_64 (Dropout)        (None, 32)                0         \n",
            "                                                                 \n",
            " dense_70 (Dense)            (None, 10)                330       \n",
            "                                                                 \n",
            "=================================================================\n",
            "Total params: 151338 (591.16 KB)\n",
            "Trainable params: 151082 (590.16 KB)\n",
            "Non-trainable params: 256 (1.00 KB)\n",
            "_________________________________________________________________\n"
          ]
        }
      ]
    },
    {
      "cell_type": "markdown",
      "source": [
        "Please, check the number of trainable paramers:"
      ],
      "metadata": {
        "id": "8tIbIIeTEI41"
      }
    },
    {
      "cell_type": "code",
      "source": [
        "print(f\"#trainable parameters: {model.count_params():_}\")"
      ],
      "metadata": {
        "id": "xdBAG7EJETlX",
        "colab": {
          "base_uri": "https://localhost:8080/"
        },
        "outputId": "41c871c9-22a7-4c6b-e117-207ba6d3272a"
      },
      "execution_count": 166,
      "outputs": [
        {
          "output_type": "stream",
          "name": "stdout",
          "text": [
            "#trainable parameters: 151_338\n"
          ]
        }
      ]
    },
    {
      "cell_type": "code",
      "source": [
        "# training\n",
        "EPOCHS = 100\n",
        "STEPS_PER_EPOCH = 32\n",
        "\n",
        "network_history = model.fit(\n",
        "    X_train, Y_train,\n",
        "    epochs=EPOCHS,\n",
        "    steps_per_epoch=STEPS_PER_EPOCH,\n",
        "    validation_data=(X_valid, Y_valid),\n",
        "    callbacks=[es]\n",
        ")"
      ],
      "metadata": {
        "id": "u8tFNCNVHyt9",
        "colab": {
          "base_uri": "https://localhost:8080/"
        },
        "outputId": "dce3d077-ea5a-4251-81a8-53729150f930"
      },
      "execution_count": 167,
      "outputs": [
        {
          "output_type": "stream",
          "name": "stdout",
          "text": [
            "Epoch 1/100\n",
            "32/32 [==============================] - 7s 120ms/step - loss: 2.2921 - accuracy: 0.2658 - val_loss: 1.9083 - val_accuracy: 0.3301\n",
            "Epoch 2/100\n",
            "32/32 [==============================] - 3s 96ms/step - loss: 1.8182 - accuracy: 0.3640 - val_loss: 1.7318 - val_accuracy: 0.4049\n",
            "Epoch 3/100\n",
            "32/32 [==============================] - 3s 104ms/step - loss: 1.6464 - accuracy: 0.4162 - val_loss: 1.5858 - val_accuracy: 0.4640\n",
            "Epoch 4/100\n",
            "32/32 [==============================] - 3s 85ms/step - loss: 1.5319 - accuracy: 0.4541 - val_loss: 1.4850 - val_accuracy: 0.5048\n",
            "Epoch 5/100\n",
            "32/32 [==============================] - 3s 86ms/step - loss: 1.4492 - accuracy: 0.4778 - val_loss: 1.4169 - val_accuracy: 0.5227\n",
            "Epoch 6/100\n",
            "32/32 [==============================] - 3s 96ms/step - loss: 1.3854 - accuracy: 0.5053 - val_loss: 1.3748 - val_accuracy: 0.5333\n",
            "Epoch 7/100\n",
            "32/32 [==============================] - 3s 85ms/step - loss: 1.3265 - accuracy: 0.5276 - val_loss: 1.2810 - val_accuracy: 0.5561\n",
            "Epoch 8/100\n",
            "32/32 [==============================] - 3s 85ms/step - loss: 1.2802 - accuracy: 0.5447 - val_loss: 1.2525 - val_accuracy: 0.5651\n",
            "Epoch 9/100\n",
            "32/32 [==============================] - 3s 86ms/step - loss: 1.2440 - accuracy: 0.5591 - val_loss: 1.2089 - val_accuracy: 0.5853\n",
            "Epoch 10/100\n",
            "32/32 [==============================] - 3s 104ms/step - loss: 1.2142 - accuracy: 0.5700 - val_loss: 1.1784 - val_accuracy: 0.5775\n",
            "Epoch 11/100\n",
            "32/32 [==============================] - 3s 106ms/step - loss: 1.1868 - accuracy: 0.5818 - val_loss: 1.1543 - val_accuracy: 0.5917\n",
            "Epoch 12/100\n",
            "32/32 [==============================] - 3s 104ms/step - loss: 1.1614 - accuracy: 0.5921 - val_loss: 1.0896 - val_accuracy: 0.6193\n",
            "Epoch 13/100\n",
            "32/32 [==============================] - 3s 86ms/step - loss: 1.1421 - accuracy: 0.5986 - val_loss: 1.0759 - val_accuracy: 0.6191\n",
            "Epoch 14/100\n",
            "32/32 [==============================] - 3s 98ms/step - loss: 1.1169 - accuracy: 0.6087 - val_loss: 1.0474 - val_accuracy: 0.6301\n",
            "Epoch 15/100\n",
            "32/32 [==============================] - 3s 87ms/step - loss: 1.1072 - accuracy: 0.6108 - val_loss: 1.0460 - val_accuracy: 0.6313\n",
            "Epoch 16/100\n",
            "32/32 [==============================] - 3s 104ms/step - loss: 1.0879 - accuracy: 0.6209 - val_loss: 1.0281 - val_accuracy: 0.6401\n",
            "Epoch 17/100\n",
            "32/32 [==============================] - 3s 96ms/step - loss: 1.0720 - accuracy: 0.6273 - val_loss: 1.0225 - val_accuracy: 0.6423\n",
            "Epoch 18/100\n",
            "32/32 [==============================] - 3s 106ms/step - loss: 1.0660 - accuracy: 0.6277 - val_loss: 0.9845 - val_accuracy: 0.6636\n",
            "Epoch 19/100\n",
            "32/32 [==============================] - 3s 104ms/step - loss: 1.0448 - accuracy: 0.6357 - val_loss: 1.0031 - val_accuracy: 0.6613\n",
            "Epoch 20/100\n",
            "32/32 [==============================] - 3s 104ms/step - loss: 1.0331 - accuracy: 0.6404 - val_loss: 1.0130 - val_accuracy: 0.6566\n",
            "Epoch 21/100\n",
            "32/32 [==============================] - 3s 86ms/step - loss: 1.0184 - accuracy: 0.6454 - val_loss: 1.0162 - val_accuracy: 0.6632\n",
            "Epoch 22/100\n",
            "32/32 [==============================] - 3s 93ms/step - loss: 1.0013 - accuracy: 0.6525 - val_loss: 1.0076 - val_accuracy: 0.6707\n",
            "Epoch 23/100\n",
            "32/32 [==============================] - 3s 105ms/step - loss: 1.0028 - accuracy: 0.6514 - val_loss: 0.9843 - val_accuracy: 0.6729\n",
            "Epoch 24/100\n",
            "32/32 [==============================] - 3s 104ms/step - loss: 0.9844 - accuracy: 0.6586 - val_loss: 0.9857 - val_accuracy: 0.6771\n",
            "Epoch 25/100\n",
            "32/32 [==============================] - 3s 86ms/step - loss: 0.9817 - accuracy: 0.6587 - val_loss: 0.9663 - val_accuracy: 0.6747\n",
            "Epoch 26/100\n",
            "32/32 [==============================] - 3s 108ms/step - loss: 0.9692 - accuracy: 0.6651 - val_loss: 0.9311 - val_accuracy: 0.6808\n",
            "Epoch 27/100\n",
            "32/32 [==============================] - 3s 85ms/step - loss: 0.9632 - accuracy: 0.6651 - val_loss: 0.9325 - val_accuracy: 0.6926\n",
            "Epoch 28/100\n",
            "32/32 [==============================] - 3s 86ms/step - loss: 0.9569 - accuracy: 0.6685 - val_loss: 0.8607 - val_accuracy: 0.7027\n",
            "Epoch 29/100\n",
            "32/32 [==============================] - 3s 104ms/step - loss: 0.9417 - accuracy: 0.6727 - val_loss: 0.8782 - val_accuracy: 0.6972\n",
            "Epoch 30/100\n",
            "32/32 [==============================] - 3s 90ms/step - loss: 0.9263 - accuracy: 0.6781 - val_loss: 0.8866 - val_accuracy: 0.6942\n",
            "Epoch 31/100\n",
            "32/32 [==============================] - 3s 86ms/step - loss: 0.9248 - accuracy: 0.6795 - val_loss: 0.8667 - val_accuracy: 0.7057\n",
            "Epoch 32/100\n",
            "32/32 [==============================] - 3s 87ms/step - loss: 0.9256 - accuracy: 0.6796 - val_loss: 0.8642 - val_accuracy: 0.7037\n",
            "Epoch 33/100\n",
            "32/32 [==============================] - 3s 105ms/step - loss: 0.9057 - accuracy: 0.6864 - val_loss: 0.8496 - val_accuracy: 0.7054\n",
            "Epoch 34/100\n",
            "32/32 [==============================] - 3s 107ms/step - loss: 0.9060 - accuracy: 0.6856 - val_loss: 0.8543 - val_accuracy: 0.7072\n",
            "Epoch 35/100\n",
            "32/32 [==============================] - 3s 104ms/step - loss: 0.8952 - accuracy: 0.6902 - val_loss: 0.8557 - val_accuracy: 0.7085\n",
            "Epoch 36/100\n",
            "32/32 [==============================] - 3s 105ms/step - loss: 0.8904 - accuracy: 0.6910 - val_loss: 0.8452 - val_accuracy: 0.7159\n",
            "Epoch 37/100\n",
            "32/32 [==============================] - 3s 89ms/step - loss: 0.8880 - accuracy: 0.6923 - val_loss: 0.8109 - val_accuracy: 0.7232\n",
            "Epoch 38/100\n",
            "32/32 [==============================] - 3s 107ms/step - loss: 0.8750 - accuracy: 0.6985 - val_loss: 0.8530 - val_accuracy: 0.7111\n",
            "Epoch 39/100\n",
            "32/32 [==============================] - 3s 105ms/step - loss: 0.8729 - accuracy: 0.7001 - val_loss: 0.8429 - val_accuracy: 0.7177\n",
            "Epoch 40/100\n",
            "32/32 [==============================] - 3s 86ms/step - loss: 0.8635 - accuracy: 0.7008 - val_loss: 0.8553 - val_accuracy: 0.7175\n",
            "Epoch 41/100\n",
            "32/32 [==============================] - 3s 105ms/step - loss: 0.8640 - accuracy: 0.7020 - val_loss: 0.8694 - val_accuracy: 0.7145\n",
            "Epoch 42/100\n",
            "32/32 [==============================] - 3s 89ms/step - loss: 0.8558 - accuracy: 0.7055 - val_loss: 0.8413 - val_accuracy: 0.7194\n"
          ]
        }
      ]
    },
    {
      "cell_type": "code",
      "source": [
        "# GOAL: validation acc of 72%\n",
        "valid_loss, valid_acc = model.evaluate(X_valid, Y_valid)\n",
        "print(f'Valid loss: {valid_loss:0.2}')\n",
        "print(f'Valid accuracy: {valid_acc:0.2%}')\n",
        "# current best: 68%"
      ],
      "metadata": {
        "colab": {
          "base_uri": "https://localhost:8080/"
        },
        "id": "nmmvJt72Db_R",
        "outputId": "30599156-5825-4b45-9dc2-4b45c31fb367"
      },
      "execution_count": 168,
      "outputs": [
        {
          "output_type": "stream",
          "name": "stdout",
          "text": [
            "313/313 [==============================] - 1s 3ms/step - loss: 0.8109 - accuracy: 0.7232\n",
            "Valid loss: 0.81\n",
            "Valid accuracy: 72.32%\n"
          ]
        }
      ]
    },
    {
      "cell_type": "markdown",
      "source": [
        "# 3. Exercise: evaluation on test data\n",
        "You will evaluate the classification of the test data using the common metrics and the confusion matrix in this section.\n",
        "\n",
        "\n",
        "As a first stes, let's run the predictions and convert the predicted softmax outputs to dense labels. The one-hot encoded labels are also converted back to dense labels, as they are required for the evaluation functions."
      ],
      "metadata": {
        "id": "2FtKp-a2-A9m"
      }
    },
    {
      "cell_type": "code",
      "source": [
        "probas = model.predict(X_test)\n",
        "preds  = np.argmax(probas,axis=1)\n",
        "Y_test_dense = np.argmax(Y_test, axis=1) # get the original dense labels of the test data"
      ],
      "metadata": {
        "id": "EcWAqwlDMq3y",
        "colab": {
          "base_uri": "https://localhost:8080/"
        },
        "outputId": "4ffb9525-24a1-4848-e372-191262af0df0"
      },
      "execution_count": 169,
      "outputs": [
        {
          "output_type": "stream",
          "name": "stdout",
          "text": [
            "313/313 [==============================] - 1s 2ms/step\n"
          ]
        }
      ]
    },
    {
      "cell_type": "markdown",
      "source": [
        "## 3.1. Exercise: Metrics\n",
        "please review the common classification metrics (accuracy, precision, recall, F1) for the complete model (not per class).\n",
        "\n",
        "Hints:\n",
        "* use macro averaging\n",
        "* you have to import the right functions from [sklearn.metrics](https://scikit-learn.org/stable/modules/model_evaluation.html)\n"
      ],
      "metadata": {
        "id": "RWJ-PH_iMs9K"
      }
    },
    {
      "cell_type": "code",
      "source": [
        "from sklearn.metrics import accuracy_score, precision_score, recall_score, f1_score"
      ],
      "metadata": {
        "id": "5sKm5zHSMZ_x"
      },
      "execution_count": 170,
      "outputs": []
    },
    {
      "cell_type": "code",
      "source": [
        "print(\"Accuracy:\",accuracy_score(Y_test_dense, preds))\n",
        "print(\"Precision:\", precision_score(Y_test_dense, preds, average='macro'))\n",
        "print(\"Recall:\",recall_score(Y_test_dense, preds, average='macro'))\n",
        "print(\"F1:\", f1_score(Y_test_dense, preds, average='macro'))"
      ],
      "metadata": {
        "id": "I3_9wgDREUna",
        "colab": {
          "base_uri": "https://localhost:8080/"
        },
        "outputId": "105e16e8-0c00-40d0-e1fd-e0f0a39cd3b5"
      },
      "execution_count": 171,
      "outputs": [
        {
          "output_type": "stream",
          "name": "stdout",
          "text": [
            "Accuracy: 0.719\n",
            "Precision: 0.7234992899720665\n",
            "Recall: 0.7190000000000001\n",
            "F1: 0.7158981146616356\n"
          ]
        }
      ]
    },
    {
      "cell_type": "markdown",
      "source": [
        "\n",
        "## 3.2. Exercise: Confusion matrix\n",
        "Calculate the confusion matrix and display the results in a heatmap (with decimal values).\n",
        "\n",
        "Hints:\n",
        "* you have to do the imports this time too, e.g. from [sklearn.metrics](https://scikit-learn.org/stable/modules/model_evaluation.html) and the [heatmap function](https://seaborn.pydata.org/generated/seaborn.heatmap.html) of [seaborn](https://seaborn.pydata.org/)\n",
        "* for displaying the decimal values, you have to turn annot=True and define fmt='d' in the heatmap function of seaborn"
      ],
      "metadata": {
        "id": "ECHguBFtGL7f"
      }
    },
    {
      "cell_type": "code",
      "source": [
        "from sklearn.metrics import confusion_matrix\n",
        "import seaborn as sns"
      ],
      "metadata": {
        "id": "SIi2VzMBO3yD"
      },
      "execution_count": 172,
      "outputs": []
    },
    {
      "cell_type": "code",
      "metadata": {
        "id": "cdqODx92Svw7",
        "colab": {
          "base_uri": "https://localhost:8080/",
          "height": 539
        },
        "outputId": "903112b9-4052-4e80-9be1-465ccf3990cd"
      },
      "source": [
        "conf = confusion_matrix(Y_test_dense, preds)\n",
        "plt.figure(figsize=(7,6))\n",
        "sns.heatmap(conf,annot=True, fmt='d')"
      ],
      "execution_count": 173,
      "outputs": [
        {
          "output_type": "execute_result",
          "data": {
            "text/plain": [
              "<Axes: >"
            ]
          },
          "metadata": {},
          "execution_count": 173
        },
        {
          "output_type": "display_data",
          "data": {
            "text/plain": [
              "<Figure size 700x600 with 2 Axes>"
            ],
            "image/png": "[encoded data removed]"
          },
          "metadata": {}
        }
      ]
    },
    {
      "cell_type": "code",
      "source": [],
      "metadata": {
        "id": "SD0XTZwhCOKB"
      },
      "execution_count": null,
      "outputs": []
    }
  ]
}